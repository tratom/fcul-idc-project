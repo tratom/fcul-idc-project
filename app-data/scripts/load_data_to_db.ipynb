{
 "cells": [
  {
   "cell_type": "code",
   "execution_count": 6,
   "metadata": {},
   "outputs": [],
   "source": [
    "import pandas as pd\n",
    "from psycopg2 import sql\n",
    "from psycopg2.extras import execute_values\n",
    "import config"
   ]
  },
  {
   "cell_type": "code",
   "execution_count": 11,
   "metadata": {},
   "outputs": [
    {
     "name": "stdout",
     "output_type": "stream",
     "text": [
      "Connected to the PostgreSQL server.\n"
     ]
    }
   ],
   "source": [
    "db_config = config.load_config()\n",
    "conn = config.connect(db_config)\n",
    "conn.autocommit = True\n",
    "cursor = conn.cursor()"
   ]
  },
  {
   "cell_type": "code",
   "execution_count": 5,
   "metadata": {},
   "outputs": [],
   "source": [
    "cursor.execute(\"CREATE DATABASE health\")\n",
    "cursor.close()\n",
    "conn.close()"
   ]
  },
  {
   "cell_type": "code",
   "execution_count": null,
   "metadata": {},
   "outputs": [],
   "source": [
    "cursor.execute(\n",
    "    \"\"\"\n",
    "    CREATE TABLE IF NOT EXISTS activity (\n",
    "        _id SERIAL PRIMARY KEY,\n",
    "        date DATE NOT NULL,\n",
    "        time TIME NOT NULL,\n",
    "        activity INT,\n",
    "        acceleration_x FLOAT NOT NULL,\n",
    "        acceleration_y FLOAT NOT NULL,\n",
    "        acceleration_z FLOAT NOT NULL,\n",
    "        gyro_x FLOAT NOT NULL,\n",
    "        gyro_y FLOAT NOT NULL,\n",
    "        gyro_z FLOAT NOT NULL\n",
    "    );\n",
    "    \"\"\")"
   ]
  },
  {
   "cell_type": "code",
   "execution_count": 13,
   "metadata": {},
   "outputs": [],
   "source": [
    "file_path = '../training/training.data'\n",
    "training_df = pd.read_csv(file_path, delimiter=';', header=0)\n",
    "\n",
    "# Conversion of columns : \n",
    "\n",
    "# column date : \n",
    "training_df['date'] = pd.to_datetime(training_df['date'], format='%d/%m/%y').dt.strftime('%Y-%m-%d')\n",
    "\n",
    "# column activity : \n",
    "training_df['activity'] = training_df['activity'].astype(int)\n",
    "\n",
    "# Column time :\n",
    "converted_time = []\n",
    "for time_value in training_df['time']:\n",
    "    try:\n",
    "        parts = time_value.split(':')\n",
    "        if len(parts) == 4:\n",
    "            time_str = f\"{parts[0]}:{parts[1]}:{parts[2]}.{parts[3]}\"\n",
    "            converted_time.append(time_str)\n",
    "        else:\n",
    "            raise ValueError(f\"Format expected : {time_value}\")\n",
    "    except Exception as e:\n",
    "        print(f\"Error while loading the time {time_value}: {e}\")\n",
    "        converted_time.append(None)\n",
    "\n",
    "training_df['time'] = converted_time\n",
    "\n",
    "\n",
    "# Explicit type convertion of column in native python\n",
    "training_df = training_df.astype({\n",
    "    'activity': int,\n",
    "    'acceleration_x': float,\n",
    "    'acceleration_y': float,\n",
    "    'acceleration_z': float,\n",
    "    'gyro_x': float,\n",
    "    'gyro_y': float,\n",
    "    'gyro_z': float,\n",
    "})"
   ]
  },
  {
   "cell_type": "code",
   "execution_count": 14,
   "metadata": {},
   "outputs": [],
   "source": [
    "# Conversion of lines of DataFrame in tuple list (with activity in boolean)\n",
    "records = [tuple(map(lambda x: x.item() if hasattr(x, 'item') else x, row)) for row in training_df.to_records(index=False)]\n",
    "\n",
    "records = [\n",
    "    (\n",
    "        row.date,\n",
    "        row.time,\n",
    "        int(row.activity),\n",
    "        row.acceleration_x,\n",
    "        row.acceleration_y,\n",
    "        row.acceleration_z,\n",
    "        row.gyro_x,\n",
    "        row.gyro_y,\n",
    "        row.gyro_z,\n",
    "    )\n",
    "    for row in training_df.itertuples(index=False)\n",
    "]\n",
    "\n",
    "\n",
    "# Insertion request\n",
    "query = \"\"\"\n",
    "    INSERT INTO activity (date, time, activity, acceleration_x, acceleration_y, acceleration_z, gyro_x, gyro_y, gyro_z)\n",
    "    VALUES %s\n",
    "\"\"\"\n",
    "\n",
    "# Execution of the insertion request\n",
    "execute_values(cursor, query, records)"
   ]
  },
  {
   "cell_type": "code",
   "execution_count": null,
   "metadata": {},
   "outputs": [],
   "source": [
    "cursor.close()\n",
    "conn.close()"
   ]
  }
 ],
 "metadata": {
  "kernelspec": {
   "display_name": "base",
   "language": "python",
   "name": "python3"
  },
  "language_info": {
   "codemirror_mode": {
    "name": "ipython",
    "version": 3
   },
   "file_extension": ".py",
   "mimetype": "text/x-python",
   "name": "python",
   "nbconvert_exporter": "python",
   "pygments_lexer": "ipython3",
   "version": "3.12.2"
  }
 },
 "nbformat": 4,
 "nbformat_minor": 2
}
