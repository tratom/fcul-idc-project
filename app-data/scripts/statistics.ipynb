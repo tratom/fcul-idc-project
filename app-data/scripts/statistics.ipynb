{
 "cells": [
  {
   "cell_type": "code",
   "execution_count": 1,
   "metadata": {},
   "outputs": [
    {
     "ename": "ModuleNotFoundError",
     "evalue": "No module named 'psycopg2'",
     "output_type": "error",
     "traceback": [
      "\u001b[0;31m---------------------------------------------------------------------------\u001b[0m",
      "\u001b[0;31mModuleNotFoundError\u001b[0m                       Traceback (most recent call last)",
      "Cell \u001b[0;32mIn[1], line 2\u001b[0m\n\u001b[1;32m      1\u001b[0m \u001b[38;5;28;01mimport\u001b[39;00m \u001b[38;5;21;01mpandas\u001b[39;00m \u001b[38;5;28;01mas\u001b[39;00m \u001b[38;5;21;01mpd\u001b[39;00m\n\u001b[0;32m----> 2\u001b[0m \u001b[38;5;28;01mimport\u001b[39;00m \u001b[38;5;21;01mpsycopg2\u001b[39;00m\n\u001b[1;32m      3\u001b[0m \u001b[38;5;28;01mfrom\u001b[39;00m \u001b[38;5;21;01mpsycopg2\u001b[39;00m \u001b[38;5;28;01mimport\u001b[39;00m sql\n\u001b[1;32m      4\u001b[0m \u001b[38;5;28;01mfrom\u001b[39;00m \u001b[38;5;21;01mpsycopg2\u001b[39;00m\u001b[38;5;21;01m.\u001b[39;00m\u001b[38;5;21;01mextras\u001b[39;00m \u001b[38;5;28;01mimport\u001b[39;00m execute_values\n",
      "\u001b[0;31mModuleNotFoundError\u001b[0m: No module named 'psycopg2'"
     ]
    }
   ],
   "source": [
    "import pandas as pd\n",
    "import psycopg2\n",
    "from psycopg2 import sql\n",
    "from psycopg2.extras import execute_values"
   ]
  },
  {
   "cell_type": "code",
   "execution_count": null,
   "metadata": {},
   "outputs": [
    {
     "name": "stdout",
     "output_type": "stream",
     "text": [
      "Connected to the PostgreSQL server.\n"
     ]
    }
   ],
   "source": [
    "def connect(config):\n",
    "    \"\"\" Connect to the PostgreSQL database server \"\"\"\n",
    "    try:\n",
    "        # connecting to the PostgreSQL server\n",
    "        with psycopg2.connect(**config) as conn:\n",
    "            print('Connected to the PostgreSQL server.')\n",
    "            return conn\n",
    "    except (psycopg2.DatabaseError, Exception) as error:\n",
    "        print(error)\n",
    "\n",
    "config = load_config()\n",
    "conn = connect(config)\n",
    "conn.autocommit = True\n",
    "cursor = conn.cursor()"
   ]
  },
  {
   "cell_type": "code",
   "execution_count": null,
   "metadata": {},
   "outputs": [],
   "source": [
    "cursor.execute(\"CREATE DATABASE health\")"
   ]
  },
  {
   "cell_type": "code",
   "execution_count": 4,
   "metadata": {},
   "outputs": [],
   "source": [
    "cursor.execute(\n",
    "    \"\"\"\n",
    "    CREATE TABLE IF NOT EXISTS activity (\n",
    "        _id SERIAL PRIMARY KEY,\n",
    "        date DATE NOT NULL,\n",
    "        time TIME NOT NULL,\n",
    "        activity BOOL,\n",
    "        acceleration_x FLOAT NOT NULL,\n",
    "        acceleration_y FLOAT NOT NULL,\n",
    "        acceleration_z FLOAT NOT NULL,\n",
    "        gyro_x FLOAT NOT NULL,\n",
    "        gyro_y FLOAT NOT NULL,\n",
    "        gyro_z FLOAT NOT NULL\n",
    "    )\n",
    "    \"\"\")"
   ]
  },
  {
   "cell_type": "code",
   "execution_count": null,
   "metadata": {},
   "outputs": [],
   "source": [
    "file_path = '../training/training.csv'\n",
    "training_df = pd.read_csv(file_path, sep=';')\n",
    "training_df.head()\n",
    "\n",
    "# # Convert 'date' to datetime (format: YYYY-MM-DD)\n",
    "# training_df['date'] = pd.to_datetime(training_df['date'], format='%d/%m/%Y', errors='coerce')\n",
    "# # Convert 'time' to time format\n",
    "# training_df['time'] = pd.to_datetime(training_df['time'], format='%H:%M:%S', errors='coerce').dt.time\n",
    "# # Convert 'activity' to boolean\n",
    "# training_df['activity'] = training_df['activity'].astype(bool)\n",
    "# Convert acceleration and gyroscope columns to float\n",
    "float_columns = ['acceleration_x', 'acceleration_y', 'acceleration_z', \n",
    "                 'gyro_x', 'gyro_y', 'gyro_z']\n",
    "for col in float_columns:\n",
    "    training_df[col] = pd.to_numeric(training_df[col], errors='coerce')"
   ]
  },
  {
   "cell_type": "code",
   "execution_count": 27,
   "metadata": {},
   "outputs": [
    {
     "ename": "ProgrammingError",
     "evalue": "can't adapt type 'numpy.int64'",
     "output_type": "error",
     "traceback": [
      "\u001b[0;31m---------------------------------------------------------------------------\u001b[0m",
      "\u001b[0;31mProgrammingError\u001b[0m                          Traceback (most recent call last)",
      "Cell \u001b[0;32mIn[27], line 10\u001b[0m\n\u001b[1;32m      5\u001b[0m \u001b[38;5;66;03m# Batch insert into the activity table\u001b[39;00m\n\u001b[1;32m      6\u001b[0m query \u001b[38;5;241m=\u001b[39m \u001b[38;5;124m\"\"\"\u001b[39m\n\u001b[1;32m      7\u001b[0m \u001b[38;5;124m    INSERT INTO activity (date, time, activity, acceleration_x, acceleration_y, acceleration_z, gyro_x, gyro_y, gyro_z)\u001b[39m\n\u001b[1;32m      8\u001b[0m \u001b[38;5;124m    VALUES \u001b[39m\u001b[38;5;132;01m%s\u001b[39;00m\n\u001b[1;32m      9\u001b[0m \u001b[38;5;124m\"\"\"\u001b[39m\n\u001b[0;32m---> 10\u001b[0m execute_values(cursor, query, records)\n",
      "File \u001b[0;32m~/anaconda3/lib/python3.12/site-packages/psycopg2/extras.py:1296\u001b[0m, in \u001b[0;36mexecute_values\u001b[0;34m(cur, sql, argslist, template, page_size, fetch)\u001b[0m\n\u001b[1;32m   1294\u001b[0m parts \u001b[38;5;241m=\u001b[39m pre[:]\n\u001b[1;32m   1295\u001b[0m \u001b[38;5;28;01mfor\u001b[39;00m args \u001b[38;5;129;01min\u001b[39;00m page:\n\u001b[0;32m-> 1296\u001b[0m     parts\u001b[38;5;241m.\u001b[39mappend(cur\u001b[38;5;241m.\u001b[39mmogrify(template, args))\n\u001b[1;32m   1297\u001b[0m     parts\u001b[38;5;241m.\u001b[39mappend(\u001b[38;5;124mb\u001b[39m\u001b[38;5;124m'\u001b[39m\u001b[38;5;124m,\u001b[39m\u001b[38;5;124m'\u001b[39m)\n\u001b[1;32m   1298\u001b[0m parts[\u001b[38;5;241m-\u001b[39m\u001b[38;5;241m1\u001b[39m:] \u001b[38;5;241m=\u001b[39m post\n",
      "\u001b[0;31mProgrammingError\u001b[0m: can't adapt type 'numpy.int64'"
     ]
    }
   ],
   "source": [
    "# Convert DataFrame rows to a list of tuples\n",
    "data = training_df.to_records(index=False)  # Exclude index for insertion\n",
    "records = [tuple(row) for row in data]\n",
    "\n",
    "# Batch insert into the activity table\n",
    "query = \"\"\"\n",
    "    INSERT INTO activity (date, time, activity, acceleration_x, acceleration_y, acceleration_z, gyro_x, gyro_y, gyro_z)\n",
    "    VALUES %s\n",
    "\"\"\"\n",
    "execute_values(cursor, query, records)"
   ]
  }
 ],
 "metadata": {
  "kernelspec": {
   "display_name": "base",
   "language": "python",
   "name": "python3"
  },
  "language_info": {
   "codemirror_mode": {
    "name": "ipython",
    "version": 3
   },
   "file_extension": ".py",
   "mimetype": "text/x-python",
   "name": "python",
   "nbconvert_exporter": "python",
   "pygments_lexer": "ipython3",
   "version": "3.12.4"
  }
 },
 "nbformat": 4,
 "nbformat_minor": 2
}
